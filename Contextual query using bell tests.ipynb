{
 "cells": [
  {
   "cell_type": "code",
   "execution_count": 49,
   "metadata": {},
   "outputs": [],
   "source": [
    "import numpy as np"
   ]
  },
  {
   "cell_type": "code",
   "execution_count": 50,
   "metadata": {},
   "outputs": [],
   "source": [
    "document_test = [\"youpi\",\"le\",\"chien\",\"est\",\"heureux\",\"devant\",\"le\",\"camaieu\"]"
   ]
  },
  {
   "cell_type": "code",
   "execution_count": 51,
   "metadata": {},
   "outputs": [],
   "source": [
    "def create_HAL_matrix(document):\n",
    "    words = []\n",
    "    for word in document:\n",
    "        if word not in words:\n",
    "            words.append(word)\n",
    "    n = len(words)\n",
    "    hal_dict_matrix = {}\n",
    "    for word in words:\n",
    "        hal_dict_matrix[word]={}\n",
    "        for word2 in words:\n",
    "            hal_dict_matrix[word][word2] = 0\n",
    "        \n",
    "    return hal_dict_matrix"
   ]
  },
  {
   "cell_type": "code",
   "execution_count": 52,
   "metadata": {},
   "outputs": [],
   "source": [
    "hal_dict_matrix_test= create_HAL_matrix(document_test)"
   ]
  },
  {
   "cell_type": "code",
   "execution_count": 53,
   "metadata": {},
   "outputs": [
    {
     "data": {
      "text/plain": [
       "[0, 0, 0, 0, 0, 0, 0]"
      ]
     },
     "execution_count": 53,
     "metadata": {},
     "output_type": "execute_result"
    }
   ],
   "source": [
    "list(list(hal_dict_matrix_test.values())[0].values())"
   ]
  },
  {
   "cell_type": "code",
   "execution_count": 54,
   "metadata": {},
   "outputs": [],
   "source": [
    "def fill_HAL_matrix(document,hal_dict_matrix,window_size):\n",
    "    window_size_updated = window_size\n",
    "    len_doc = len(document)\n",
    "    for i in range(len_doc):\n",
    "        word = document[i]\n",
    "        if i+window_size >=len_doc:\n",
    "            window_size_updated += -1\n",
    "        for k in range(1,window_size_updated+1):\n",
    "            word2 = document[i+k]\n",
    "            hal_dict_matrix[word][word2] += window_size-k+1\n",
    "    return hal_dict_matrix"
   ]
  },
  {
   "cell_type": "code",
   "execution_count": 55,
   "metadata": {},
   "outputs": [
    {
     "data": {
      "text/plain": [
       "{'youpi': {'youpi': 0,\n",
       "  'le': 5,\n",
       "  'chien': 4,\n",
       "  'est': 3,\n",
       "  'heureux': 2,\n",
       "  'devant': 1,\n",
       "  'camaieu': 0},\n",
       " 'le': {'youpi': 0,\n",
       "  'le': 1,\n",
       "  'chien': 5,\n",
       "  'est': 4,\n",
       "  'heureux': 3,\n",
       "  'devant': 2,\n",
       "  'camaieu': 5},\n",
       " 'chien': {'youpi': 0,\n",
       "  'le': 2,\n",
       "  'chien': 0,\n",
       "  'est': 5,\n",
       "  'heureux': 4,\n",
       "  'devant': 3,\n",
       "  'camaieu': 1},\n",
       " 'est': {'youpi': 0,\n",
       "  'le': 3,\n",
       "  'chien': 0,\n",
       "  'est': 0,\n",
       "  'heureux': 5,\n",
       "  'devant': 4,\n",
       "  'camaieu': 2},\n",
       " 'heureux': {'youpi': 0,\n",
       "  'le': 4,\n",
       "  'chien': 0,\n",
       "  'est': 0,\n",
       "  'heureux': 0,\n",
       "  'devant': 5,\n",
       "  'camaieu': 3},\n",
       " 'devant': {'youpi': 0,\n",
       "  'le': 5,\n",
       "  'chien': 0,\n",
       "  'est': 0,\n",
       "  'heureux': 0,\n",
       "  'devant': 0,\n",
       "  'camaieu': 4},\n",
       " 'camaieu': {'youpi': 0,\n",
       "  'le': 0,\n",
       "  'chien': 0,\n",
       "  'est': 0,\n",
       "  'heureux': 0,\n",
       "  'devant': 0,\n",
       "  'camaieu': 0}}"
      ]
     },
     "execution_count": 55,
     "metadata": {},
     "output_type": "execute_result"
    }
   ],
   "source": [
    "fill_HAL_matrix(document_test,hal_dict_matrix_test,window_size=5)"
   ]
  },
  {
   "cell_type": "code",
   "execution_count": 56,
   "metadata": {},
   "outputs": [],
   "source": [
    "def hal_dict_to_matrix(hal_dict_matrix):\n",
    "    hal_matrix = []\n",
    "    for i in range(len(hal_dict_matrix.keys())):\n",
    "        hal_matrix.append(list(list(hal_dict_matrix_test.values())[i].values()))\n",
    "    return hal_matrix,list(hal_dict_matrix.keys())"
   ]
  },
  {
   "cell_type": "code",
   "execution_count": 57,
   "metadata": {},
   "outputs": [
    {
     "data": {
      "text/plain": [
       "[[0, 5, 4, 3, 2, 1, 0],\n",
       " [0, 1, 5, 4, 3, 2, 5],\n",
       " [0, 2, 0, 5, 4, 3, 1],\n",
       " [0, 3, 0, 0, 5, 4, 2],\n",
       " [0, 4, 0, 0, 0, 5, 3],\n",
       " [0, 5, 0, 0, 0, 0, 4],\n",
       " [0, 0, 0, 0, 0, 0, 0]]"
      ]
     },
     "execution_count": 57,
     "metadata": {},
     "output_type": "execute_result"
    }
   ],
   "source": [
    "hal_matrix_test,words_list_test = hal_dict_to_matrix(hal_dict_matrix_test)\n",
    "hal_matrix_test"
   ]
  },
  {
   "cell_type": "code",
   "execution_count": 58,
   "metadata": {},
   "outputs": [],
   "source": [
    "def hal_to_symmetric(hal_matrix):\n",
    "    return hal_matrix + np.transpose(hal_matrix)"
   ]
  },
  {
   "cell_type": "code",
   "execution_count": 59,
   "metadata": {},
   "outputs": [
    {
     "data": {
      "text/plain": [
       "array([[0, 5, 4, 3, 2, 1, 0],\n",
       "       [5, 2, 7, 7, 7, 7, 5],\n",
       "       [4, 7, 0, 5, 4, 3, 1],\n",
       "       [3, 7, 5, 0, 5, 4, 2],\n",
       "       [2, 7, 4, 5, 0, 5, 3],\n",
       "       [1, 7, 3, 4, 5, 0, 4],\n",
       "       [0, 5, 1, 2, 3, 4, 0]])"
      ]
     },
     "execution_count": 59,
     "metadata": {},
     "output_type": "execute_result"
    }
   ],
   "source": [
    "hal_matrix_symmetric_test = hal_to_symmetric(hal_matrix_test)\n",
    "hal_matrix_symmetric_test"
   ]
  },
  {
   "cell_type": "code",
   "execution_count": 60,
   "metadata": {},
   "outputs": [
    {
     "data": {
      "text/plain": [
       "['youpi', 'le', 'chien', 'est', 'heureux', 'devant', 'camaieu']"
      ]
     },
     "execution_count": 60,
     "metadata": {},
     "output_type": "execute_result"
    }
   ],
   "source": [
    "words_list_test"
   ]
  },
  {
   "cell_type": "code",
   "execution_count": 61,
   "metadata": {},
   "outputs": [],
   "source": [
    "def document_vector(hal_matrix_symmetric):\n",
    "    n_words = len(hal_matrix_symmetric)\n",
    "    doc_vector = np.array([0]*n_words)\n",
    "    for i in range(n_words):\n",
    "        doc_vector[i] = sum(hal_matrix_symmetric[i])\n",
    "    return doc_vector"
   ]
  },
  {
   "cell_type": "code",
   "execution_count": 62,
   "metadata": {},
   "outputs": [
    {
     "data": {
      "text/plain": [
       "array([15, 40, 24, 26, 26, 24, 15])"
      ]
     },
     "execution_count": 62,
     "metadata": {},
     "output_type": "execute_result"
    }
   ],
   "source": [
    "document_vector(hal_matrix_symmetric_test)"
   ]
  },
  {
   "cell_type": "code",
   "execution_count": 63,
   "metadata": {},
   "outputs": [],
   "source": [
    "def extract_word_vector(hal_matrix_symmetric,words_list,word_to_extract):\n",
    "    word_position = words_list.index(word_to_extract)\n",
    "    return hal_matrix_symmetric[word_position]"
   ]
  },
  {
   "cell_type": "code",
   "execution_count": 64,
   "metadata": {},
   "outputs": [
    {
     "data": {
      "text/plain": [
       "array([5, 2, 7, 7, 7, 7, 5])"
      ]
     },
     "execution_count": 64,
     "metadata": {},
     "output_type": "execute_result"
    }
   ],
   "source": [
    "word_vector_test = extract_word_vector(hal_matrix_symmetric_test,words_list_test,\"le\")\n",
    "word_vector_test"
   ]
  },
  {
   "cell_type": "code",
   "execution_count": 65,
   "metadata": {},
   "outputs": [],
   "source": [
    "def normalize_vector(word_vector):\n",
    "    return word_vector/(np.linalg.vector_norm(word_vector))"
   ]
  },
  {
   "cell_type": "code",
   "execution_count": 66,
   "metadata": {},
   "outputs": [
    {
     "data": {
      "text/plain": [
       "array([0.31622777, 0.12649111, 0.44271887, 0.44271887, 0.44271887,\n",
       "       0.44271887, 0.31622777])"
      ]
     },
     "execution_count": 66,
     "metadata": {},
     "output_type": "execute_result"
    }
   ],
   "source": [
    "normalize_vector(word_vector_test)"
   ]
  },
  {
   "cell_type": "code",
   "execution_count": null,
   "metadata": {},
   "outputs": [],
   "source": []
  }
 ],
 "metadata": {
  "kernelspec": {
   "display_name": "Python 3",
   "language": "python",
   "name": "python3"
  },
  "language_info": {
   "codemirror_mode": {
    "name": "ipython",
    "version": 3
   },
   "file_extension": ".py",
   "mimetype": "text/x-python",
   "name": "python",
   "nbconvert_exporter": "python",
   "pygments_lexer": "ipython3",
   "version": "3.12.6"
  }
 },
 "nbformat": 4,
 "nbformat_minor": 2
}
