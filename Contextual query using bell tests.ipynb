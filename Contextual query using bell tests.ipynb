{
 "cells": [
  {
   "cell_type": "code",
   "execution_count": 2,
   "metadata": {},
   "outputs": [],
   "source": [
    "import numpy as np"
   ]
  },
  {
   "cell_type": "code",
   "execution_count": 3,
   "metadata": {},
   "outputs": [],
   "source": [
    "document_test = [\"youpi\",\"le\",\"chien\",\"est\",\"heureux\",\"devant\",\"le\",\"camaieu\"]"
   ]
  },
  {
   "cell_type": "code",
   "execution_count": 4,
   "metadata": {},
   "outputs": [],
   "source": [
    "def create_HAL_matrix(document):\n",
    "    words = []\n",
    "    for word in document:\n",
    "        if word not in words:\n",
    "            words.append(word)\n",
    "    n = len(words)\n",
    "    hal_dict_matrix = {}\n",
    "    for word in words:\n",
    "        hal_dict_matrix[word]={}\n",
    "        for word2 in words:\n",
    "            hal_dict_matrix[word][word2] = 0\n",
    "        \n",
    "    return hal_dict_matrix"
   ]
  },
  {
   "cell_type": "code",
   "execution_count": 5,
   "metadata": {},
   "outputs": [],
   "source": [
    "hal_dict_matrix_test= create_HAL_matrix(document_test)"
   ]
  },
  {
   "cell_type": "code",
   "execution_count": 6,
   "metadata": {},
   "outputs": [
    {
     "data": {
      "text/plain": [
       "[0, 0, 0, 0, 0, 0, 0]"
      ]
     },
     "execution_count": 6,
     "metadata": {},
     "output_type": "execute_result"
    }
   ],
   "source": [
    "list(list(hal_dict_matrix_test.values())[0].values())"
   ]
  },
  {
   "cell_type": "code",
   "execution_count": 7,
   "metadata": {},
   "outputs": [],
   "source": [
    "def fill_HAL_matrix(document,hal_dict_matrix,window_size):\n",
    "    window_size_updated = window_size\n",
    "    len_doc = len(document)\n",
    "    for i in range(len_doc):\n",
    "        word = document[i]\n",
    "        if i+window_size >=len_doc:\n",
    "            window_size_updated += -1\n",
    "        for k in range(1,window_size_updated+1):\n",
    "            word2 = document[i+k]\n",
    "            hal_dict_matrix[word][word2] += window_size-k+1\n",
    "    return hal_dict_matrix"
   ]
  },
  {
   "cell_type": "code",
   "execution_count": 8,
   "metadata": {},
   "outputs": [
    {
     "data": {
      "text/plain": [
       "{'youpi': {'youpi': 0,\n",
       "  'le': 5,\n",
       "  'chien': 4,\n",
       "  'est': 3,\n",
       "  'heureux': 2,\n",
       "  'devant': 1,\n",
       "  'camaieu': 0},\n",
       " 'le': {'youpi': 0,\n",
       "  'le': 1,\n",
       "  'chien': 5,\n",
       "  'est': 4,\n",
       "  'heureux': 3,\n",
       "  'devant': 2,\n",
       "  'camaieu': 5},\n",
       " 'chien': {'youpi': 0,\n",
       "  'le': 2,\n",
       "  'chien': 0,\n",
       "  'est': 5,\n",
       "  'heureux': 4,\n",
       "  'devant': 3,\n",
       "  'camaieu': 1},\n",
       " 'est': {'youpi': 0,\n",
       "  'le': 3,\n",
       "  'chien': 0,\n",
       "  'est': 0,\n",
       "  'heureux': 5,\n",
       "  'devant': 4,\n",
       "  'camaieu': 2},\n",
       " 'heureux': {'youpi': 0,\n",
       "  'le': 4,\n",
       "  'chien': 0,\n",
       "  'est': 0,\n",
       "  'heureux': 0,\n",
       "  'devant': 5,\n",
       "  'camaieu': 3},\n",
       " 'devant': {'youpi': 0,\n",
       "  'le': 5,\n",
       "  'chien': 0,\n",
       "  'est': 0,\n",
       "  'heureux': 0,\n",
       "  'devant': 0,\n",
       "  'camaieu': 4},\n",
       " 'camaieu': {'youpi': 0,\n",
       "  'le': 0,\n",
       "  'chien': 0,\n",
       "  'est': 0,\n",
       "  'heureux': 0,\n",
       "  'devant': 0,\n",
       "  'camaieu': 0}}"
      ]
     },
     "execution_count": 8,
     "metadata": {},
     "output_type": "execute_result"
    }
   ],
   "source": [
    "fill_HAL_matrix(document_test,hal_dict_matrix_test,window_size=5)"
   ]
  },
  {
   "cell_type": "code",
   "execution_count": 9,
   "metadata": {},
   "outputs": [],
   "source": [
    "def visualize_hal_matrix(hal_dict_matrix):\n",
    "    hal_matrix = []\n",
    "    for i in range(len(hal_dict_matrix.keys())):\n",
    "        hal_matrix.append(list(list(hal_dict_matrix_test.values())[i].values()))\n",
    "    return hal_matrix"
   ]
  },
  {
   "cell_type": "code",
   "execution_count": 14,
   "metadata": {},
   "outputs": [
    {
     "data": {
      "text/plain": [
       "[[0, 5, 4, 3, 2, 1, 0],\n",
       " [0, 1, 5, 4, 3, 2, 5],\n",
       " [0, 2, 0, 5, 4, 3, 1],\n",
       " [0, 3, 0, 0, 5, 4, 2],\n",
       " [0, 4, 0, 0, 0, 5, 3],\n",
       " [0, 5, 0, 0, 0, 0, 4],\n",
       " [0, 0, 0, 0, 0, 0, 0]]"
      ]
     },
     "execution_count": 14,
     "metadata": {},
     "output_type": "execute_result"
    }
   ],
   "source": [
    "hal_matrix_test = visualize_hal_matrix(hal_dict_matrix_test)\n",
    "hal_matrix_test"
   ]
  },
  {
   "cell_type": "code",
   "execution_count": 15,
   "metadata": {},
   "outputs": [
    {
     "data": {
      "text/plain": [
       "array([[0, 5, 4, 3, 2, 1, 0],\n",
       "       [5, 2, 7, 7, 7, 7, 5],\n",
       "       [4, 7, 0, 5, 4, 3, 1],\n",
       "       [3, 7, 5, 0, 5, 4, 2],\n",
       "       [2, 7, 4, 5, 0, 5, 3],\n",
       "       [1, 7, 3, 4, 5, 0, 4],\n",
       "       [0, 5, 1, 2, 3, 4, 0]])"
      ]
     },
     "execution_count": 15,
     "metadata": {},
     "output_type": "execute_result"
    }
   ],
   "source": [
    "hal_matrix_test = np.transpose(hal_matrix_test) + hal_matrix_test\n",
    "hal_matrix_test"
   ]
  },
  {
   "cell_type": "code",
   "execution_count": null,
   "metadata": {},
   "outputs": [],
   "source": [
    "def bell_operators():\n",
    "    "
   ]
  }
 ],
 "metadata": {
  "kernelspec": {
   "display_name": "Python 3",
   "language": "python",
   "name": "python3"
  },
  "language_info": {
   "codemirror_mode": {
    "name": "ipython",
    "version": 3
   },
   "file_extension": ".py",
   "mimetype": "text/x-python",
   "name": "python",
   "nbconvert_exporter": "python",
   "pygments_lexer": "ipython3",
   "version": "3.12.6"
  }
 },
 "nbformat": 4,
 "nbformat_minor": 2
}
